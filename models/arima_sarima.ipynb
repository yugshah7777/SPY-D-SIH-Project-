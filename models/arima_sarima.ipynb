{
 "cells": [
  {
   "cell_type": "code",
   "execution_count": null,
   "id": "d92f8e2a",
   "metadata": {},
   "outputs": [
    {
     "ename": "ModuleNotFoundError",
     "evalue": "No module named 'matplotlib'",
     "output_type": "error",
     "traceback": [
      "\u001b[31m---------------------------------------------------------------------------\u001b[39m",
      "\u001b[31mModuleNotFoundError\u001b[39m                       Traceback (most recent call last)",
      "\u001b[36mCell\u001b[39m\u001b[36m \u001b[39m\u001b[32mIn[7]\u001b[39m\u001b[32m, line 5\u001b[39m\n\u001b[32m      3\u001b[39m \u001b[38;5;28;01mfrom\u001b[39;00m\u001b[38;5;250m \u001b[39m\u001b[34;01mdatetime\u001b[39;00m\u001b[38;5;250m \u001b[39m\u001b[38;5;28;01mimport\u001b[39;00m date, timedelta\n\u001b[32m      4\u001b[39m \u001b[38;5;28;01mimport\u001b[39;00m\u001b[38;5;250m \u001b[39m\u001b[34;01mnumpy\u001b[39;00m\u001b[38;5;250m \u001b[39m\u001b[38;5;28;01mas\u001b[39;00m\u001b[38;5;250m \u001b[39m\u001b[34;01mnp\u001b[39;00m\n\u001b[32m----> \u001b[39m\u001b[32m5\u001b[39m \u001b[38;5;28;01mimport\u001b[39;00m\u001b[38;5;250m \u001b[39m\u001b[34;01mmatplotlib\u001b[39;00m\u001b[34;01m.\u001b[39;00m\u001b[34;01mpyplot\u001b[39;00m\u001b[38;5;250m \u001b[39m\u001b[38;5;28;01mas\u001b[39;00m\u001b[38;5;250m \u001b[39m\u001b[34;01mplt\u001b[39;00m\n",
      "\u001b[31mModuleNotFoundError\u001b[39m: No module named 'matplotlib'"
     ]
    }
   ],
   "source": [
    "import yfinance as yf\n",
    "import pandas as pd\n",
    "from datetime import date, timedelta\n",
    "import numpy as np\n",
    "import matplotlib.pyplot as plt"
   ]
  },
  {
   "cell_type": "code",
   "execution_count": 5,
   "id": "6ecffa96",
   "metadata": {},
   "outputs": [
    {
     "name": "stderr",
     "output_type": "stream",
     "text": [
      "C:\\Users\\sachi\\AppData\\Local\\Temp\\ipykernel_380\\2454190501.py:4: FutureWarning: YF.download() has changed argument auto_adjust default to True\n",
      "  data = yf.download(ticker, start=start_date, end=end_date)\n",
      "[*********************100%***********************]  1 of 1 completed"
     ]
    },
    {
     "name": "stdout",
     "output_type": "stream",
     "text": [
      "--- Data for the last 10 years ---\n",
      "Fetched 2512 data points from 2015-09-20 to 2025-09-17.\n",
      "\n",
      "--- Start of the data ---\n",
      "Price           Close\n",
      "Ticker           AAPL\n",
      "Date                 \n",
      "2015-09-21  25.890627\n",
      "2015-09-22  25.483875\n",
      "2015-09-23  25.690626\n",
      "2015-09-24  25.843437\n",
      "2015-09-25  25.778271\n",
      "\n",
      "--- End of the data ---\n",
      "Price            Close\n",
      "Ticker            AAPL\n",
      "Date                  \n",
      "2025-09-10  226.789993\n",
      "2025-09-11  230.029999\n",
      "2025-09-12  234.070007\n",
      "2025-09-15  236.699997\n",
      "2025-09-16  238.149994\n"
     ]
    },
    {
     "name": "stderr",
     "output_type": "stream",
     "text": [
      "\n"
     ]
    }
   ],
   "source": [
    "ticker = 'AAPL'\n",
    "end_date = date.today()\n",
    "start_date = end_date - timedelta(days=10 * 365)\n",
    "data = yf.download(ticker, start=start_date, end=end_date)\n",
    "close_price = data[['Close']]\n",
    "print(\"--- Data for the last 10 years ---\")\n",
    "print(f\"Fetched {len(close_price)} data points from {start_date} to {end_date}.\")\n",
    "print(\"\\n--- Start of the data ---\")\n",
    "print(close_price.head())\n",
    "print(\"\\n--- End of the data ---\")\n",
    "print(close_price.tail())"
   ]
  },
  {
   "cell_type": "code",
   "execution_count": null,
   "id": "76223959",
   "metadata": {},
   "outputs": [],
   "source": [
    "close_price_np = close_price.values\n",
    "plt.figure(figsize=(14, 7))\n",
    "plt.plot(close_price.index, close_price['Close'], label='AAPL Close Price')\n",
    "plt.title('Apple (AAPL) Stock Price Over Last 10 Years')\n",
    "plt.xlabel('Date')\n",
    "plt.ylabel('Closing Price (USD)')\n",
    "plt.legend()\n",
    "plt.grid(True)\n",
    "plt.show()"
   ]
  }
 ],
 "metadata": {
  "kernelspec": {
   "display_name": ".venv",
   "language": "python",
   "name": "python3"
  },
  "language_info": {
   "codemirror_mode": {
    "name": "ipython",
    "version": 3
   },
   "file_extension": ".py",
   "mimetype": "text/x-python",
   "name": "python",
   "nbconvert_exporter": "python",
   "pygments_lexer": "ipython3",
   "version": "3.13.3"
  }
 },
 "nbformat": 4,
 "nbformat_minor": 5
}
